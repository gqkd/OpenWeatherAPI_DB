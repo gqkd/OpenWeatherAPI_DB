{
 "cells": [
  {
   "cell_type": "code",
   "execution_count": 1,
   "metadata": {},
   "outputs": [],
   "source": [
    "import os\n",
    "import json\n",
    "import pandas as pd\n",
    "from datetime import datetime, timezone\n",
    "\n",
    "RAW_DATA_DIR = \"raw_data\"\n"
   ]
  },
  {
   "cell_type": "code",
   "execution_count": 7,
   "metadata": {},
   "outputs": [
    {
     "name": "stdout",
     "output_type": "stream",
     "text": [
      "      city            observation_ts  temperature  wind_speed weather_type  \\\n",
      "0  Bologna 2024-09-30 23:00:00+00:00        16.40        1.54       Clouds   \n",
      "1  Bologna 2024-10-01 00:00:00+00:00        16.37        2.06       Clouds   \n",
      "2  Bologna 2024-10-01 01:00:00+00:00        15.81        1.03       Clouds   \n",
      "3  Bologna 2024-10-01 02:00:00+00:00        16.02        1.54       Clouds   \n",
      "4  Bologna 2024-10-01 03:00:00+00:00        16.13        2.57       Clouds   \n",
      "\n",
      "    weather_type_ds  \n",
      "0  scattered clouds  \n",
      "1     broken clouds  \n",
      "2     broken clouds  \n",
      "3     broken clouds  \n",
      "4  scattered clouds  \n"
     ]
    }
   ],
   "source": [
    "def load_raw_data_to_dataframe(dir:str = RAW_DATA_DIR):\n",
    "    data = []\n",
    "    \n",
    "    # Iteration on all files of the folder\n",
    "    for filename in os.listdir(dir):\n",
    "        with open(os.path.join(dir, filename), 'r') as file:\n",
    "            \n",
    "            raw_data = json.load(file)\n",
    "            \n",
    "            # Takes the name of the city from the json file (it will be saved as cityname_timestamp)\n",
    "            city_name = filename.split('_')[0]\n",
    "            observation_ts = datetime.fromtimestamp(raw_data['data'][0]['dt'], tz=timezone.utc)\n",
    "            temperature = raw_data['data'][0]['temp']\n",
    "            wind_speed = raw_data['data'][0]['wind_speed']\n",
    "            \n",
    "            # Iteration on weather types, there can be more than one\n",
    "            for weather in raw_data['data'][0]['weather']:\n",
    "                weather_type = weather['main']\n",
    "                weather_type_ds = weather['description']\n",
    "                    \n",
    "                # Append the observation for the weather type\n",
    "                data.append({\n",
    "                    \"city\": city_name,\n",
    "                    \"observation_ts\": observation_ts,\n",
    "                    \"temperature\": temperature,\n",
    "                    \"wind_speed\": wind_speed,\n",
    "                    \"weather_type\": weather_type,\n",
    "                    \"weather_type_ds\":weather_type_ds\n",
    "                })\n",
    "\n",
    "    df = pd.DataFrame(data)\n",
    "\n",
    "    # Convert the timestamp in data format\n",
    "    df['observation_ts'] = pd.to_datetime(df['observation_ts'])\n",
    "    \n",
    "    print(df.head())\n",
    "    return df\n",
    "\n",
    "df = load_raw_data_to_dataframe()\n"
   ]
  },
  {
   "cell_type": "markdown",
   "metadata": {},
   "source": [
    "### How many distinct weather conditions were observed (rain/snow/clear/…) in a certain period?"
   ]
  },
  {
   "cell_type": "code",
   "execution_count": 8,
   "metadata": {},
   "outputs": [
    {
     "name": "stdout",
     "output_type": "stream",
     "text": [
      "21\n"
     ]
    }
   ],
   "source": [
    "print(df['weather_type_ds'].nunique())"
   ]
  },
  {
   "cell_type": "markdown",
   "metadata": {},
   "source": [
    "## What are the temperature averages observed in a certain period per city?"
   ]
  },
  {
   "cell_type": "code",
   "execution_count": 9,
   "metadata": {},
   "outputs": [
    {
     "name": "stdout",
     "output_type": "stream",
     "text": [
      "city\n",
      "Bologna     15.584957\n",
      "Cagliari    20.687139\n",
      "Milano      16.444300\n",
      "Name: temperature, dtype: float64\n"
     ]
    }
   ],
   "source": [
    "print(df.groupby('city')['temperature'].mean())"
   ]
  },
  {
   "cell_type": "markdown",
   "metadata": {},
   "source": [
    "## What city had the highest absolute temperature in a certain period of time?"
   ]
  },
  {
   "cell_type": "code",
   "execution_count": 10,
   "metadata": {},
   "outputs": [
    {
     "name": "stdout",
     "output_type": "stream",
     "text": [
      "city\n",
      "Bologna     22.12\n",
      "Cagliari    28.01\n",
      "Milano      24.19\n",
      "Name: temperature, dtype: float64\n"
     ]
    }
   ],
   "source": [
    "print(df.groupby('city')['temperature'].max())"
   ]
  },
  {
   "cell_type": "markdown",
   "metadata": {},
   "source": [
    "## Which city had the highest daily temperature variation in a certain period of time?"
   ]
  },
  {
   "cell_type": "code",
   "execution_count": 12,
   "metadata": {},
   "outputs": [
    {
     "name": "stdout",
     "output_type": "stream",
     "text": [
      "city      data      \n",
      "Cagliari  2024-10-02    11.44\n",
      "Milano    2024-10-09    10.62\n",
      "Cagliari  2024-10-06    10.48\n",
      "          2024-10-12    10.32\n",
      "          2024-10-11     9.56\n",
      "                        ...  \n",
      "Milano    2024-10-19     1.10\n",
      "          2024-10-24     0.38\n",
      "Cagliari  2024-09-30     0.00\n",
      "Milano    2024-09-30     0.00\n",
      "Bologna   2024-09-30     0.00\n",
      "Name: variation, Length: 93, dtype: float64\n"
     ]
    }
   ],
   "source": [
    "# Add a column for the day\n",
    "df['data'] = df['observation_ts'].dt.date\n",
    "\n",
    "# New dataframe where to store temperature max and min per day\n",
    "daily_variation = df.groupby(['city', 'data'])['temperature'].agg(['min', 'max'])\n",
    "\n",
    "# Add the column for daily_variation\n",
    "daily_variation['variation'] = daily_variation['max']-daily_variation['min']\n",
    "\n",
    "# Find the max and sort\n",
    "print(daily_variation.groupby(['city','data'])['variation'].max().sort_values(ascending=False))\n"
   ]
  },
  {
   "cell_type": "markdown",
   "metadata": {},
   "source": [
    "## What city had the strongest wind in a certain period of time?"
   ]
  },
  {
   "cell_type": "code",
   "execution_count": 13,
   "metadata": {},
   "outputs": [
    {
     "name": "stdout",
     "output_type": "stream",
     "text": [
      "city\n",
      "Cagliari    11.83\n",
      "Bologna      7.72\n",
      "Milano       7.20\n",
      "Name: wind_speed, dtype: float64\n"
     ]
    }
   ],
   "source": [
    "print(df.groupby('city')['wind_speed'].max().sort_values(ascending=False))"
   ]
  }
 ],
 "metadata": {
  "kernelspec": {
   "display_name": "Python 3",
   "language": "python",
   "name": "python3"
  },
  "language_info": {
   "codemirror_mode": {
    "name": "ipython",
    "version": 3
   },
   "file_extension": ".py",
   "mimetype": "text/x-python",
   "name": "python",
   "nbconvert_exporter": "python",
   "pygments_lexer": "ipython3",
   "version": "3.11.1"
  }
 },
 "nbformat": 4,
 "nbformat_minor": 2
}
